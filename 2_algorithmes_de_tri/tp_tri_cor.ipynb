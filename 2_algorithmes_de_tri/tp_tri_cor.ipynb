{
 "cells": [
  {
   "cell_type": "code",
   "execution_count": 4,
   "source": [
    "# 1.\n",
    "def croissant(L):\n",
    "    for i in range(len(L)-1):\n",
    "        if L[i] > L[i+1]:\n",
    "            return False\n",
    "    return True\n",
    "\n",
    "croissant([1,2,3,4,5]) and not croissant([1,2,4,3,5]) # test"
   ],
   "outputs": [
    {
     "output_type": "execute_result",
     "data": {
      "text/plain": [
       "True"
      ]
     },
     "metadata": {},
     "execution_count": 4
    }
   ],
   "metadata": {}
  },
  {
   "cell_type": "code",
   "execution_count": 10,
   "source": [
    "# 2.\n",
    "def appartient(e, L, i):\n",
    "    if i == len(L):\n",
    "        return False\n",
    "    return L[i] == e or appartient(e, L, i+1)\n",
    "\n",
    "appartient(1, [1, 2, 3], 0) and not appartient(1, [1, 2, 3], 1) # test"
   ],
   "outputs": [
    {
     "output_type": "execute_result",
     "data": {
      "text/plain": [
       "True"
      ]
     },
     "metadata": {},
     "execution_count": 10
    }
   ],
   "metadata": {}
  },
  {
   "cell_type": "code",
   "execution_count": 11,
   "source": [
    "# 3.\n",
    "def doublon(L):\n",
    "    for i in range(len(L)):\n",
    "        if appartient(L[i], L, i+1):\n",
    "            return True\n",
    "    return False\n",
    "\n",
    "not doublon([1, 2, 3, 4, 5]) and doublon([1, 2, 3, 4, 4]) # test"
   ],
   "outputs": [
    {
     "output_type": "execute_result",
     "data": {
      "text/plain": [
       "True"
      ]
     },
     "metadata": {},
     "execution_count": 11
    }
   ],
   "metadata": {}
  },
  {
   "cell_type": "code",
   "execution_count": 4,
   "source": [
    "# 4. Voir cours : complexité O(nlog(n))\n",
    "def fusion(L1, L2, L):\n",
    "    i1, i2 = 0, 0\n",
    "    while i1 + i2 < len(L):\n",
    "        if i1 >= len(L1):\n",
    "            L[i1 + i2] = L2[i2]\n",
    "            i2 = i2 + 1\n",
    "        elif i2 >= len(L2):\n",
    "            L[i1 + i2] = L1[i1]\n",
    "            i1 = i1 + 1\n",
    "        elif L[i1] < L[i2]:\n",
    "            L[i1 + i2] = L1[i1]\n",
    "            i1 = i1 + 1\n",
    "        else:\n",
    "            L[i1 + i2] = L2[i2]\n",
    "            i2 = i2 + 1\n",
    "\n",
    "def fusion(L1, L2):\n",
    "    if len(L1) == 0: return L2\n",
    "    if len(L2) == 0: return L1\n",
    "    if L1[-1] > L2[-1]: m = L1.pop()\n",
    "    else: m = L2.pop()\n",
    "    L = fusion(L1, L2)\n",
    "    L.append(m)\n",
    "    return L\n",
    "            \n",
    "def tri_fusion(L):\n",
    "    if len(L) <= 1: return L\n",
    "    L1, L2 = L[: len(L)//2], L[len(L)//2 :]\n",
    "    return fusion(tri_fusion(L1), tri_fusion(L2))\n",
    "\n",
    "L = [5, 1, 3, 8, 2, 4, 9, 7, 6]\n",
    "tri_fusion(L) == [1, 2, 3, 4, 5, 6, 7, 8, 9] # test\n"
   ],
   "outputs": [
    {
     "output_type": "execute_result",
     "data": {
      "text/plain": [
       "True"
      ]
     },
     "metadata": {},
     "execution_count": 4
    }
   ],
   "metadata": {}
  },
  {
   "cell_type": "code",
   "execution_count": 3,
   "source": [
    "# 5.\n",
    "def doublon_triee(L):\n",
    "    for i in range(len(L) - 1):\n",
    "        if L[i] == L[i+1]:  # O(len(L))\n",
    "            return True\n",
    "    return False\n",
    "\n",
    "not doublon_triee([1, 2, 3, 4, 5]) and doublon_triee([1, 2, 3, 4, 4]) # test"
   ],
   "outputs": [
    {
     "output_type": "execute_result",
     "data": {
      "text/plain": [
       "True"
      ]
     },
     "metadata": {},
     "execution_count": 3
    }
   ],
   "metadata": {}
  },
  {
   "cell_type": "code",
   "execution_count": 5,
   "source": [
    "# 6.\n",
    "def doublon2(L):\n",
    "    return doublon_triee(tri_fusion(L))\n",
    "\n",
    "not doublon2([1, 2, 3, 4, 5]) and doublon2([1, 2, 3, 4, 4]) # test"
   ],
   "outputs": [
    {
     "output_type": "execute_result",
     "data": {
      "text/plain": [
       "True"
      ]
     },
     "metadata": {},
     "execution_count": 5
    }
   ],
   "metadata": {}
  },
  {
   "cell_type": "markdown",
   "source": [
    "Comparons le temps d'exécution de doublon et doublon2 :"
   ],
   "metadata": {}
  },
  {
   "cell_type": "code",
   "execution_count": 20,
   "source": [
    "%%timeit  \n",
    "import sys\n",
    "sys.setrecursionlimit(10000)\n",
    "L = list(range(5000))\n",
    "doublon(L)"
   ],
   "outputs": [
    {
     "output_type": "stream",
     "name": "stdout",
     "text": [
      "2.24 s ± 76.1 ms per loop (mean ± std. dev. of 7 runs, 1 loop each)\n"
     ]
    }
   ],
   "metadata": {}
  },
  {
   "cell_type": "code",
   "execution_count": 21,
   "source": [
    "%%timeit\n",
    "L = list(range(5000))\n",
    "doublon2(L)"
   ],
   "outputs": [
    {
     "output_type": "stream",
     "name": "stdout",
     "text": [
      "10.2 ms ± 274 µs per loop (mean ± std. dev. of 7 runs, 100 loops each)\n"
     ]
    }
   ],
   "metadata": {}
  }
 ],
 "metadata": {
"title": "TP Algorithmes de tri corrigé",
  "orig_nbformat": 4,
  "language_info": {
   "name": "python",
   "version": "3.8.10",
   "mimetype": "text/x-python",
   "codemirror_mode": {
    "name": "ipython",
    "version": 3
   },
   "pygments_lexer": "ipython3",
   "nbconvert_exporter": "python",
   "file_extension": ".py"
  },
  "kernelspec": {
   "name": "python3",
   "display_name": "Python 3.8.10 64-bit"
  },
  "interpreter": {
   "hash": "31f2aee4e71d21fbe5cf8b01ff0e069b9275f58929596ceb00d14d90e3e16cd6"
  }
 },
 "nbformat": 4,
 "nbformat_minor": 2
}