{
 "cells": [
  {
   "cell_type": "code",
   "execution_count": 4,
   "metadata": {},
   "outputs": [
    {
     "data": {
      "text/plain": [
       "True"
      ]
     },
     "execution_count": 4,
     "metadata": {},
     "output_type": "execute_result"
    }
   ],
   "source": [
    "# 1.\n",
    "def croissant(L):\n",
    "    for i in range(len(L)-1):\n",
    "        if L[i] > L[i+1]:\n",
    "            return False\n",
    "    return True\n",
    "\n",
    "croissant([1,2,3,4,5]) and not croissant([1,2,4,3,5]) # test"
   ]
  },
  {
   "cell_type": "code",
   "execution_count": 10,
   "metadata": {},
   "outputs": [
    {
     "data": {
      "text/plain": [
       "True"
      ]
     },
     "execution_count": 10,
     "metadata": {},
     "output_type": "execute_result"
    }
   ],
   "source": [
    "# 2.\n",
    "def appartient(e, L, i):\n",
    "    if i == len(L):\n",
    "        return False\n",
    "    return L[i] == e or appartient(e, L, i+1)\n",
    "\n",
    "appartient(1, [1, 2, 3], 0) and not appartient(1, [1, 2, 3], 1) # test"
   ]
  },
  {
   "cell_type": "code",
   "execution_count": 11,
   "metadata": {},
   "outputs": [
    {
     "data": {
      "text/plain": [
       "True"
      ]
     },
     "execution_count": 11,
     "metadata": {},
     "output_type": "execute_result"
    }
   ],
   "source": [
    "# 3.\n",
    "def doublon(L):\n",
    "    for i in range(len(L)):\n",
    "        if appartient(L[i], L, i+1):\n",
    "            return True\n",
    "    return False\n",
    "\n",
    "not doublon([1, 2, 3, 4, 5]) and doublon([1, 2, 3, 4, 4]) # test"
   ]
  },
  {
   "cell_type": "code",
   "execution_count": 7,
   "metadata": {},
   "outputs": [
    {
     "data": {
      "text/plain": [
       "True"
      ]
     },
     "execution_count": 7,
     "metadata": {},
     "output_type": "execute_result"
    }
   ],
   "source": [
    "# 4. Voir cours : complexité O(nlog(n))\n",
    "def fusion(L1, L2, L):\n",
    "    i1, i2 = 0, 0\n",
    "    while i1 + i2 < len(L):\n",
    "        if i1 >= len(L1):\n",
    "            L[i1 + i2] = L2[i2]\n",
    "            i2 = i2 + 1\n",
    "        elif i2 >= len(L2):\n",
    "            L[i1 + i2] = L1[i1]\n",
    "            i1 = i1 + 1\n",
    "        elif L[i1] < L[i2]:\n",
    "            L[i1 + i2] = L1[i1]\n",
    "            i1 = i1 + 1\n",
    "        else:\n",
    "            L[i1 + i2] = L2[i2]\n",
    "            i2 = i2 + 1\n",
    "\n",
    "def fusion(L1, L2):\n",
    "    if len(L1) == 0: return L2\n",
    "    if len(L2) == 0: return L1\n",
    "    if L1[-1] > L2[-1]: m = L1.pop()\n",
    "    else: m = L2.pop()\n",
    "    L = fusion(L1, L2)\n",
    "    L.append(m)\n",
    "    return L\n",
    "            \n",
    "def tri_fusion(L):\n",
    "    if len(L) <= 1: return L\n",
    "    L1, L2 = L[: len(L)//2], L[len(L)//2 :]\n",
    "    return fusion(tri_fusion(L1), tri_fusion(L2))\n",
    "\n",
    "L = [5, 1, 3, 8, 2, 4, 9, 7, 6]\n",
    "tri_fusion(L) == [1, 2, 3, 4, 5, 6, 7, 8, 9] # test\n"
   ]
  },
  {
   "cell_type": "code",
   "execution_count": 3,
   "metadata": {},
   "outputs": [
    {
     "data": {
      "text/plain": [
       "True"
      ]
     },
     "execution_count": 3,
     "metadata": {},
     "output_type": "execute_result"
    }
   ],
   "source": [
    "# 5.\n",
    "def doublon_triee(L):\n",
    "    for i in range(len(L) - 1):\n",
    "        if L[i] == L[i+1]:  # O(len(L))\n",
    "            return True\n",
    "    return False\n",
    "\n",
    "not doublon_triee([1, 2, 3, 4, 5]) and doublon_triee([1, 2, 3, 4, 4]) # test"
   ]
  },
  {
   "cell_type": "code",
   "execution_count": 5,
   "metadata": {},
   "outputs": [
    {
     "data": {
      "text/plain": [
       "True"
      ]
     },
     "execution_count": 5,
     "metadata": {},
     "output_type": "execute_result"
    }
   ],
   "source": [
    "# 6.\n",
    "def doublon2(L):\n",
    "    return doublon_triee(tri_fusion(L))\n",
    "\n",
    "not doublon2([1, 2, 3, 4, 5]) and doublon2([1, 2, 3, 4, 4]) # test"
   ]
  },
  {
   "cell_type": "markdown",
   "metadata": {},
   "source": [
    "Comparons le temps d'exécution de doublon et doublon2 :"
   ]
  },
  {
   "cell_type": "code",
   "execution_count": 20,
   "metadata": {},
   "outputs": [
    {
     "name": "stdout",
     "output_type": "stream",
     "text": [
      "2.24 s ± 76.1 ms per loop (mean ± std. dev. of 7 runs, 1 loop each)\n"
     ]
    }
   ],
   "source": [
    "%%timeit  \n",
    "import sys\n",
    "sys.setrecursionlimit(10000)\n",
    "L = list(range(5000))\n",
    "doublon(L)"
   ]
  },
  {
   "cell_type": "code",
   "execution_count": 21,
   "metadata": {},
   "outputs": [
    {
     "name": "stdout",
     "output_type": "stream",
     "text": [
      "10.2 ms ± 274 µs per loop (mean ± std. dev. of 7 runs, 100 loops each)\n"
     ]
    }
   ],
   "source": [
    "%%timeit\n",
    "L = list(range(5000))\n",
    "doublon2(L)"
   ]
  },
  {
   "cell_type": "code",
   "execution_count": 2,
   "metadata": {},
   "outputs": [
    {
     "data": {
      "text/plain": [
       "3"
      ]
     },
     "execution_count": 2,
     "metadata": {},
     "output_type": "execute_result"
    }
   ],
   "source": [
    "# 7\n",
    "\n",
    "def frequent(L):\n",
    "    max_freq = 0\n",
    "    max_elem = 0 # élément dont la fréquence est max_freq\n",
    "    for i in range(len(L)):\n",
    "        freq = 0\n",
    "        for j in range(len(L)):\n",
    "            if L[i] == L[j]:\n",
    "                freq = freq + 1\n",
    "        if freq > max_freq:\n",
    "            max_freq = freq\n",
    "            max_elem = L[i]\n",
    "    return max_elem\n",
    "# à cause des deux boucles for imbriquées, frequent(L) est en complexité O(n)*O(n) = O(n^2), où n = len(L\n",
    "\n",
    "frequent([3, 1, 3, 7, 8, 7, 3])"
   ]
  },
  {
   "cell_type": "code",
   "execution_count": 4,
   "metadata": {},
   "outputs": [
    {
     "data": {
      "text/plain": [
       "3"
      ]
     },
     "execution_count": 4,
     "metadata": {},
     "output_type": "execute_result"
    }
   ],
   "source": [
    "# 8\n",
    "\n",
    "def frequent_triee(L):\n",
    "    cur_freq = 0\n",
    "    max_freq = 0\n",
    "    max_elem = 0\n",
    "    for i in range(len(L)): # O(n)\n",
    "        if L[i] == L[i-1]:\n",
    "            cur_freq = cur_freq + 1\n",
    "        else:\n",
    "            cur_freq = 1\n",
    "        if cur_freq > max_freq:\n",
    "            max_freq = cur_freq\n",
    "            max_elem = L[i]\n",
    "    return max_elem\n",
    "\n",
    "frequent([1, 3, 3, 3, 7, 7, 8])\n"
   ]
  },
  {
   "cell_type": "code",
   "execution_count": 5,
   "metadata": {},
   "outputs": [],
   "source": [
    "# 9.\n",
    "def frequent(L):\n",
    "    return frequent_triee(tri_fusion(L))\n",
    "# frequent_triee est en complexité O(n), tri_fusion est en O(nlog(n)), donc frequent est en complexité O(nlog(n)) + O(n) = O(nlog(n))"
   ]
  },
  {
   "cell_type": "code",
   "execution_count": 13,
   "metadata": {},
   "outputs": [
    {
     "data": {
      "text/plain": [
       "[1, 2, 3, 4, 5, 6, 7, 8, 9]"
      ]
     },
     "execution_count": 13,
     "metadata": {},
     "output_type": "execute_result"
    }
   ],
   "source": [
    "# 10.\n",
    "# Pour obtenir une complexité O(nlog k), on peut :\n",
    "# fusionner les listes 2 par 2 pour obtenir k/2 listes\n",
    "# fusionner ces listes 2 par 2 pour obtenir k/4 listes\n",
    "# ...\n",
    "# jusqu'à avoir qu'une seule liste qui contient tous les éléments\n",
    "# Ce processus prend log2(k) étapes (car au bout de log2(k) étapes il reste k/2**log2(k)=1 liste\n",
    "# Donc la complexité est O(nlog k)\n",
    "\n",
    "def fusion_all(L):\n",
    "    while len(L) > 1:\n",
    "        L_ = []\n",
    "        for i in range(0, len(L)-1, 2):\n",
    "            L_.append(fusion(L[i], L[i+1]))\n",
    "        if len(L) % 2 == 1:\n",
    "            L_.append(L[-1])\n",
    "        L = L_\n",
    "    return L[0]\n",
    "\n",
    "fusion_all([[1, 2, 3], [4, 5, 6], [7, 8, 9]])"
   ]
  },
  {
   "cell_type": "markdown",
   "metadata": {},
   "source": [
    "# Exercice supplémentaire"
   ]
  },
  {
   "cell_type": "code",
   "execution_count": 20,
   "metadata": {},
   "outputs": [
    {
     "name": "stdout",
     "output_type": "stream",
     "text": [
      "(1, 3)\n",
      "(-1, -1)\n"
     ]
    }
   ],
   "source": [
    "def somme2(L, p):\n",
    "    i, j = 0, len(L) - 1\n",
    "    while i < j and L[i] + L[j] != p:\n",
    "        # Invariant de boucle : si il existe a, b tel que L[a] + L[b] = p, alors i <= a <= b <= j\n",
    "        if L[i] + L[j] < p:\n",
    "            i = i + 1\n",
    "        else:\n",
    "            j = j - 1\n",
    "    if L[i] + L[j] == p:\n",
    "        return i, j\n",
    "    return -1, -1\n",
    "\n",
    "print(somme2([1, 2, 3, 6], 8))\n",
    "print(somme2([1, 2, 3, 6], 10))\n",
    "\n",
    "# À chaque passage dans la boucle while, j - i diminue de 1. \n",
    "# Donc au bout de len(L) itérations, i = j et la boucle s'arrête\n",
    "# Donc la complexité est O(len(L))"
   ]
  }
 ],
 "metadata": {
  "interpreter": {
   "hash": "31f2aee4e71d21fbe5cf8b01ff0e069b9275f58929596ceb00d14d90e3e16cd6"
  },
  "kernelspec": {
   "display_name": "Python 3.8.10 64-bit",
   "name": "python3"
  },
  "language_info": {
   "codemirror_mode": {
    "name": "ipython",
    "version": 3
   },
   "file_extension": ".py",
   "mimetype": "text/x-python",
   "name": "python",
   "nbconvert_exporter": "python",
   "pygments_lexer": "ipython3",
   "version": "3.8.10"
  },
  "orig_nbformat": 4,
  "title": "TP Algorithmes de tri corrigé"
 },
 "nbformat": 4,
 "nbformat_minor": 2
}
