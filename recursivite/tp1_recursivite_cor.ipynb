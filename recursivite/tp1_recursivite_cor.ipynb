{
 "cells": [
  {
   "cell_type": "markdown",
   "source": [
    "# Algorithmes classiques en récursif"
   ],
   "metadata": {}
  },
  {
   "cell_type": "code",
   "execution_count": 25,
   "source": [
    "# 1.\n",
    "def somme(n):\n",
    "    if n == 0:\n",
    "        return 0\n",
    "    else:\n",
    "        return somme(n-1) + n*n\n",
    "\n",
    "somme(3)  # test"
   ],
   "outputs": [
    {
     "output_type": "execute_result",
     "data": {
      "text/plain": [
       "14"
      ]
     },
     "metadata": {},
     "execution_count": 25
    }
   ],
   "metadata": {}
  },
  {
   "cell_type": "code",
   "execution_count": 6,
   "source": [
    "# 2.\n",
    "def binom(n, k):\n",
    "    if k == 0:  # 0 parmi n vaut 1\n",
    "        return 1\n",
    "    if n == 0:  # k parmi 0 vaut 0\n",
    "        return 0\n",
    "    else:\n",
    "        return binom(n-1, k-1) + binom(n-1, k)\n",
    "\n",
    "binom(4, 2)  # test"
   ],
   "outputs": [
    {
     "output_type": "execute_result",
     "data": {
      "text/plain": [
       "6"
      ]
     },
     "metadata": {},
     "execution_count": 6
    }
   ],
   "metadata": {}
  },
  {
   "cell_type": "code",
   "execution_count": 10,
   "source": [
    "# 3.\n",
    "# il est important de faire en sorte que f s'annule sur l'intervalle [a, b], même dans les appels récursifs\n",
    "def dicho(f, a, b, epsilon):\n",
    "    m = (a+b)/2\n",
    "    if abs(a-b) < epsilon:\n",
    "        return m\n",
    "    if f(a)*f(m) <= 0: # f s'annule sur l'intervalle [a, m]\n",
    "        return dicho(f, a, m, epsilon)\n",
    "    else: # f s'annule sur l'intervalle [m, b]\n",
    "        return dicho(f, m, b, epsilon)\n",
    "\n",
    "def g(x):  # pour tester dicho\n",
    "    return x**2 - 2\n",
    "\n",
    "dicho(g, 0, 2, 0.001)  # approximation d'un zéro de g, c'est à dire racine de 2"
   ],
   "outputs": [
    {
     "output_type": "execute_result",
     "data": {
      "text/plain": [
       "1.41455078125"
      ]
     },
     "metadata": {},
     "execution_count": 10
    }
   ],
   "metadata": {}
  },
  {
   "cell_type": "markdown",
   "source": [
    "# Algorithme d’Euclide"
   ],
   "metadata": {}
  },
  {
   "cell_type": "code",
   "execution_count": 11,
   "source": [
    "# 1.\n",
    "def pgcd(a, b):\n",
    "    if b == 0:\n",
    "        return a\n",
    "    else:\n",
    "        return pgcd(b, a%b)\n",
    "\n",
    "pgcd(12, 18)  # test"
   ],
   "outputs": [
    {
     "output_type": "execute_result",
     "data": {
      "text/plain": [
       "6"
      ]
     },
     "metadata": {},
     "execution_count": 11
    }
   ],
   "metadata": {}
  },
  {
   "cell_type": "code",
   "execution_count": 18,
   "source": [
    "# 2. \n",
    "# Par appel récursif on obtient d, u, v tels que d = u*b + v*r.\n",
    "# Comme a = bq + r, r = a - bq\n",
    "# Donc d = u*b + v*(a - bq) = v*a + (u - q*v)*b\n",
    "# Les coefficients de Bézout a et b sont donc v et u - q*v\n",
    "\n",
    "def bezout(a, b):\n",
    "    if b == 0:\n",
    "        return (a, 1, 0)\n",
    "    (d, u, v) = bezout(b, a%b)\n",
    "    return (d, v, u - (a//b)*v)\n",
    "\n",
    "bezout(7, 25)  # 1 = (-7)*7 + (-1)*25"
   ],
   "outputs": [
    {
     "output_type": "execute_result",
     "data": {
      "text/plain": [
       "(1, -7, 2)"
      ]
     },
     "metadata": {},
     "execution_count": 18
    }
   ],
   "metadata": {}
  },
  {
   "cell_type": "markdown",
   "source": [
    "# Rendu de monnaie"
   ],
   "metadata": {}
  },
  {
   "cell_type": "code",
   "execution_count": 20,
   "source": [
    "# 1.\n",
    "\n",
    "def rendu(n, L):\n",
    "    if len(L) == 0:\n",
    "        if n == 0: return 1\n",
    "        else: return 0\n",
    "    return rendu(n - L[-1], L[:-1]) + rendu(n, L[:-1])\n",
    "\n",
    "rendu(6, [1, 2, 3, 5])  # test"
   ],
   "outputs": [
    {
     "output_type": "execute_result",
     "data": {
      "text/plain": [
       "2"
      ]
     },
     "metadata": {},
     "execution_count": 20
    }
   ],
   "metadata": {}
  },
  {
   "cell_type": "code",
   "execution_count": 22,
   "source": [
    "# 2.\n",
    "def ajouter(e, LL):\n",
    "    for i in range(len(LL)):\n",
    "        LL[i].append(e)"
   ],
   "outputs": [],
   "metadata": {}
  },
  {
   "cell_type": "code",
   "execution_count": 24,
   "source": [
    "# 3.\n",
    "def rendu2(n, L):\n",
    "    if len(L) == 0:\n",
    "        if n == 0: return [[]]\n",
    "        else: return []\n",
    "    L1 = rendu2(n - L[-1], L[:-1])\n",
    "    ajouter(L[-1], L1)\n",
    "    return L1 + rendu2(n, L[:-1])\n",
    "\n",
    "rendu2(6, [1, 2, 3, 5])  # test"
   ],
   "outputs": [
    {
     "output_type": "execute_result",
     "data": {
      "text/plain": [
       "[[1, 5], [1, 2, 3]]"
      ]
     },
     "metadata": {},
     "execution_count": 24
    }
   ],
   "metadata": {}
  }
 ],
 "metadata": {
  "title": "TP corrigé : récursivité 1",
  "orig_nbformat": 4,
  "language_info": {
   "name": "python",
   "version": "3.8.10",
   "mimetype": "text/x-python",
   "codemirror_mode": {
    "name": "ipython",
    "version": 3
   },
   "pygments_lexer": "ipython3",
   "nbconvert_exporter": "python",
   "file_extension": ".py"
  },
  "kernelspec": {
   "name": "python3",
   "display_name": "Python 3.8.10 64-bit"
  },
  "interpreter": {
   "hash": "31f2aee4e71d21fbe5cf8b01ff0e069b9275f58929596ceb00d14d90e3e16cd6"
  }
 },
 "nbformat": 4,
 "nbformat_minor": 2
}